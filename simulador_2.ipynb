{
  "cells": [
    {
      "cell_type": "markdown",
      "metadata": {
        "id": "view-in-github",
        "colab_type": "text"
      },
      "source": [
        "<a href=\"https://colab.research.google.com/github/iamfernandareis/nivel-2-telos/blob/main/simulador_2.ipynb\" target=\"_parent\"><img src=\"https://colab.research.google.com/assets/colab-badge.svg\" alt=\"Open In Colab\"/></a>"
      ]
    },
    {
      "cell_type": "code",
      "execution_count": 1,
      "metadata": {
        "colab": {
          "base_uri": "https://localhost:8080/"
        },
        "id": "n4k3FIjI0hPc",
        "outputId": "7f7bd7d7-24b0-4734-fe37-7ce14d1fdd11"
      },
      "outputs": [
        {
          "output_type": "stream",
          "name": "stdout",
          "text": [
            "Requirement already satisfied: pyspark in /usr/local/lib/python3.10/dist-packages (3.5.3)\n",
            "Requirement already satisfied: py4j==0.10.9.7 in /usr/local/lib/python3.10/dist-packages (from pyspark) (0.10.9.7)\n"
          ]
        }
      ],
      "source": [
        "!pip install pyspark\n"
      ]
    },
    {
      "cell_type": "code",
      "execution_count": 10,
      "metadata": {
        "id": "4Q5ICmG60lCY"
      },
      "outputs": [],
      "source": [
        "from pyspark.sql import SparkSession\n",
        "from google.colab import files\n",
        "from pyspark.sql import functions as F\n",
        "from pyspark.sql.functions import col, lower, upper, trim, avg\n",
        "import pandas as pd\n"
      ]
    },
    {
      "cell_type": "code",
      "execution_count": 3,
      "metadata": {
        "colab": {
          "base_uri": "https://localhost:8080/",
          "height": 77
        },
        "id": "aCMIOswY00eK",
        "outputId": "1f975120-5e27-4f02-8cdd-5965a247000c"
      },
      "outputs": [
        {
          "output_type": "display_data",
          "data": {
            "text/plain": [
              "<IPython.core.display.HTML object>"
            ],
            "text/html": [
              "\n",
              "     <input type=\"file\" id=\"files-19c56144-a5d3-4444-a1a9-a6bcb980898b\" name=\"files[]\" multiple disabled\n",
              "        style=\"border:none\" />\n",
              "     <output id=\"result-19c56144-a5d3-4444-a1a9-a6bcb980898b\">\n",
              "      Upload widget is only available when the cell has been executed in the\n",
              "      current browser session. Please rerun this cell to enable.\n",
              "      </output>\n",
              "      <script>// Copyright 2017 Google LLC\n",
              "//\n",
              "// Licensed under the Apache License, Version 2.0 (the \"License\");\n",
              "// you may not use this file except in compliance with the License.\n",
              "// You may obtain a copy of the License at\n",
              "//\n",
              "//      http://www.apache.org/licenses/LICENSE-2.0\n",
              "//\n",
              "// Unless required by applicable law or agreed to in writing, software\n",
              "// distributed under the License is distributed on an \"AS IS\" BASIS,\n",
              "// WITHOUT WARRANTIES OR CONDITIONS OF ANY KIND, either express or implied.\n",
              "// See the License for the specific language governing permissions and\n",
              "// limitations under the License.\n",
              "\n",
              "/**\n",
              " * @fileoverview Helpers for google.colab Python module.\n",
              " */\n",
              "(function(scope) {\n",
              "function span(text, styleAttributes = {}) {\n",
              "  const element = document.createElement('span');\n",
              "  element.textContent = text;\n",
              "  for (const key of Object.keys(styleAttributes)) {\n",
              "    element.style[key] = styleAttributes[key];\n",
              "  }\n",
              "  return element;\n",
              "}\n",
              "\n",
              "// Max number of bytes which will be uploaded at a time.\n",
              "const MAX_PAYLOAD_SIZE = 100 * 1024;\n",
              "\n",
              "function _uploadFiles(inputId, outputId) {\n",
              "  const steps = uploadFilesStep(inputId, outputId);\n",
              "  const outputElement = document.getElementById(outputId);\n",
              "  // Cache steps on the outputElement to make it available for the next call\n",
              "  // to uploadFilesContinue from Python.\n",
              "  outputElement.steps = steps;\n",
              "\n",
              "  return _uploadFilesContinue(outputId);\n",
              "}\n",
              "\n",
              "// This is roughly an async generator (not supported in the browser yet),\n",
              "// where there are multiple asynchronous steps and the Python side is going\n",
              "// to poll for completion of each step.\n",
              "// This uses a Promise to block the python side on completion of each step,\n",
              "// then passes the result of the previous step as the input to the next step.\n",
              "function _uploadFilesContinue(outputId) {\n",
              "  const outputElement = document.getElementById(outputId);\n",
              "  const steps = outputElement.steps;\n",
              "\n",
              "  const next = steps.next(outputElement.lastPromiseValue);\n",
              "  return Promise.resolve(next.value.promise).then((value) => {\n",
              "    // Cache the last promise value to make it available to the next\n",
              "    // step of the generator.\n",
              "    outputElement.lastPromiseValue = value;\n",
              "    return next.value.response;\n",
              "  });\n",
              "}\n",
              "\n",
              "/**\n",
              " * Generator function which is called between each async step of the upload\n",
              " * process.\n",
              " * @param {string} inputId Element ID of the input file picker element.\n",
              " * @param {string} outputId Element ID of the output display.\n",
              " * @return {!Iterable<!Object>} Iterable of next steps.\n",
              " */\n",
              "function* uploadFilesStep(inputId, outputId) {\n",
              "  const inputElement = document.getElementById(inputId);\n",
              "  inputElement.disabled = false;\n",
              "\n",
              "  const outputElement = document.getElementById(outputId);\n",
              "  outputElement.innerHTML = '';\n",
              "\n",
              "  const pickedPromise = new Promise((resolve) => {\n",
              "    inputElement.addEventListener('change', (e) => {\n",
              "      resolve(e.target.files);\n",
              "    });\n",
              "  });\n",
              "\n",
              "  const cancel = document.createElement('button');\n",
              "  inputElement.parentElement.appendChild(cancel);\n",
              "  cancel.textContent = 'Cancel upload';\n",
              "  const cancelPromise = new Promise((resolve) => {\n",
              "    cancel.onclick = () => {\n",
              "      resolve(null);\n",
              "    };\n",
              "  });\n",
              "\n",
              "  // Wait for the user to pick the files.\n",
              "  const files = yield {\n",
              "    promise: Promise.race([pickedPromise, cancelPromise]),\n",
              "    response: {\n",
              "      action: 'starting',\n",
              "    }\n",
              "  };\n",
              "\n",
              "  cancel.remove();\n",
              "\n",
              "  // Disable the input element since further picks are not allowed.\n",
              "  inputElement.disabled = true;\n",
              "\n",
              "  if (!files) {\n",
              "    return {\n",
              "      response: {\n",
              "        action: 'complete',\n",
              "      }\n",
              "    };\n",
              "  }\n",
              "\n",
              "  for (const file of files) {\n",
              "    const li = document.createElement('li');\n",
              "    li.append(span(file.name, {fontWeight: 'bold'}));\n",
              "    li.append(span(\n",
              "        `(${file.type || 'n/a'}) - ${file.size} bytes, ` +\n",
              "        `last modified: ${\n",
              "            file.lastModifiedDate ? file.lastModifiedDate.toLocaleDateString() :\n",
              "                                    'n/a'} - `));\n",
              "    const percent = span('0% done');\n",
              "    li.appendChild(percent);\n",
              "\n",
              "    outputElement.appendChild(li);\n",
              "\n",
              "    const fileDataPromise = new Promise((resolve) => {\n",
              "      const reader = new FileReader();\n",
              "      reader.onload = (e) => {\n",
              "        resolve(e.target.result);\n",
              "      };\n",
              "      reader.readAsArrayBuffer(file);\n",
              "    });\n",
              "    // Wait for the data to be ready.\n",
              "    let fileData = yield {\n",
              "      promise: fileDataPromise,\n",
              "      response: {\n",
              "        action: 'continue',\n",
              "      }\n",
              "    };\n",
              "\n",
              "    // Use a chunked sending to avoid message size limits. See b/62115660.\n",
              "    let position = 0;\n",
              "    do {\n",
              "      const length = Math.min(fileData.byteLength - position, MAX_PAYLOAD_SIZE);\n",
              "      const chunk = new Uint8Array(fileData, position, length);\n",
              "      position += length;\n",
              "\n",
              "      const base64 = btoa(String.fromCharCode.apply(null, chunk));\n",
              "      yield {\n",
              "        response: {\n",
              "          action: 'append',\n",
              "          file: file.name,\n",
              "          data: base64,\n",
              "        },\n",
              "      };\n",
              "\n",
              "      let percentDone = fileData.byteLength === 0 ?\n",
              "          100 :\n",
              "          Math.round((position / fileData.byteLength) * 100);\n",
              "      percent.textContent = `${percentDone}% done`;\n",
              "\n",
              "    } while (position < fileData.byteLength);\n",
              "  }\n",
              "\n",
              "  // All done.\n",
              "  yield {\n",
              "    response: {\n",
              "      action: 'complete',\n",
              "    }\n",
              "  };\n",
              "}\n",
              "\n",
              "scope.google = scope.google || {};\n",
              "scope.google.colab = scope.google.colab || {};\n",
              "scope.google.colab._files = {\n",
              "  _uploadFiles,\n",
              "  _uploadFilesContinue,\n",
              "};\n",
              "})(self);\n",
              "</script> "
            ]
          },
          "metadata": {}
        },
        {
          "output_type": "stream",
          "name": "stdout",
          "text": [
            "Saving dados_notas_alunos_8825a393a1.csv to dados_notas_alunos_8825a393a1.csv\n"
          ]
        }
      ],
      "source": [
        "spark = SparkSession.builder.appName(\"Dados Notas Alunos\").getOrCreate()\n",
        "\n",
        "uploaded = files.upload()"
      ]
    },
    {
      "cell_type": "code",
      "execution_count": 4,
      "metadata": {
        "id": "XEt_9QdD1Orv"
      },
      "outputs": [],
      "source": [
        "nome = \"dados_notas_alunos_8825a393a1.csv\"\n",
        "\n",
        "df = spark.read.csv(nome, sep=';', inferSchema=True, header=True)"
      ]
    },
    {
      "cell_type": "markdown",
      "metadata": {
        "id": "Qu8cHve53Y87"
      },
      "source": [
        "## 1) Visualização e Análise Inicial dos Dados\n",
        "Como analista de dados, desejo tratar os dados enviados ao sistema para\n",
        "padronizá-los e assim, ser possível fazer uma análise futura, entendendo a\n",
        "correlação entre cada variável e tipo de dado.\n",
        "\n",
        "Critérios de Aceitação:\n",
        "\n",
        "\n",
        "⮚  **Carregar o dataset e mostrar as primeiras linhas e o esquema do\n",
        "DataFrame.**\n",
        "\n",
        "\n"
      ]
    },
    {
      "cell_type": "code",
      "execution_count": 5,
      "metadata": {
        "colab": {
          "base_uri": "https://localhost:8080/"
        },
        "id": "4bPGbHb51aFN",
        "outputId": "3f28fe1e-1386-42d1-dc91-b09a855df4cb"
      },
      "outputs": [
        {
          "output_type": "stream",
          "name": "stdout",
          "text": [
            "+---+---------+-------------+--------------------+-------------+-----------------+------------------+---------------+--------------+---------+-----------------+-------------+----------------+---------------+--------------+\n",
            "| Id|   G�nero|RendaFamiliar|     EducacaoPaterna|PeriodoDeAula|FezAulaParticular|EstadoCivilDosPais|PraticaEsportes|FilhoMaisVelho|NumIrmaos|TransporteEscolar|HorasDeEstudo|notaDeMatematica|notaDePortugues|notaDeCiencias|\n",
            "+---+---------+-------------+--------------------+-------------+-----------------+------------------+---------------+--------------+---------+-----------------+-------------+----------------+---------------+--------------+\n",
            "|  0| feminino|         NULL|   superior completo|     matutino|              nao|            casado|   regularmente|           sim|        3|           onibus|          < 5|              71|             71|            74|\n",
            "|  1| feminino|      grupo C| superior incompleto|     matutino|             NULL|            casado|  eventualmente|           sim|        0|             NULL|     > 5 < 10|              69|             90|            88|\n",
            "|  2| feminino|      grupo B|            mestrado|     matutino|              nao|          solteiro|  eventualmente|           sim|        4|           onibus|          < 5|              87|             93|            91|\n",
            "|  3|masculino|      grupo A|       ensinao medio|   vespertino|              nao|            casado|          nunca|           nao|        1|             NULL|     > 5 < 10|              45|             56|            42|\n",
            "|  4|masculino|      grupo C| superior incompleto|     matutino|              nao|            casado|  eventualmente|           sim|        0|           onibus|     > 5 < 10|              76|             78|            75|\n",
            "|  5| feminino|      grupo B|       ensinao medio|     matutino|              nao|            casado|   regularmente|           sim|        1|           onibus|     > 5 < 10|              73|             84|            79|\n",
            "|  6| feminino|      grupo B| superior incompleto|     matutino|              sim|             viuvo|          nunca|           nao|        1|            carro|     > 5 < 10|              85|             93|            89|\n",
            "|  7|masculino|      grupo B| superior incompleto|   vespertino|              nao|            casado|  eventualmente|           sim|        1|            carro|         > 10|              41|             43|            39|\n",
            "|  8|masculino|      grupo D|ensinao medio inc...|   vespertino|              sim|          solteiro|  eventualmente|           nao|        3|            carro|         > 10|              65|             64|            68|\n",
            "|  9| feminino|      grupo B|ensinao medio inc...|   vespertino|              nao|            casado|   regularmente|           sim|     NULL|            carro|          < 5|              37|             59|            50|\n",
            "| 10|masculino|      grupo C|       ensinao medio|     matutino|              nao|              NULL|  eventualmente|           sim|        1|            carro|     > 5 < 10|              37|             54|            52|\n",
            "| 11| feminino|      grupo D|       ensinao medio|     matutino|              nao|        divorciado|  eventualmente|           sim|        1|           onibus|     > 5 < 10|              40|             52|            43|\n",
            "| 12|masculino|      grupo B|ensinao medio inc...|     matutino|              nao|            casado|   regularmente|           nao|        1|            carro|     > 5 < 10|              66|             82|            74|\n",
            "| 13| feminino|      grupo A| superior incompleto|     matutino|              sim|          solteiro|  eventualmente|           sim|        1|            carro|         > 10|              80|             73|            71|\n",
            "| 14| feminino|      grupo A|            mestrado|     matutino|              nao|        divorciado|  eventualmente|           sim|        2|            carro|          < 5|              48|             53|            58|\n",
            "| 15|masculino|      grupo C|some ensinao medi...|     matutino|              nao|            casado|  eventualmente|           sim|        0|            carro|         NULL|              69|             75|            78|\n",
            "| 16| feminino|      grupo C|ensinao medio inc...|     matutino|             NULL|            casado|  eventualmente|           sim|        0|           onibus|     > 5 < 10|              88|             89|            86|\n",
            "| 17|masculino|      grupo B|some ensinao medi...|   vespertino|              nao|        divorciado|  eventualmente|           sim|        1|           onibus|     > 5 < 10|              18|             32|            28|\n",
            "| 18| feminino|      grupo C|            mestrado|   vespertino|              sim|          solteiro|  eventualmente|           nao|        1|            carro|     > 5 < 10|              46|             42|            47|\n",
            "| 19|masculino|      grupo C|       ensinao medio|   vespertino|              nao|            casado|          nunca|           sim|        3|            carro|          < 5|              50|             56|            58|\n",
            "+---+---------+-------------+--------------------+-------------+-----------------+------------------+---------------+--------------+---------+-----------------+-------------+----------------+---------------+--------------+\n",
            "only showing top 20 rows\n",
            "\n"
          ]
        }
      ],
      "source": [
        "df.show()"
      ]
    },
    {
      "cell_type": "code",
      "execution_count": 6,
      "metadata": {
        "colab": {
          "base_uri": "https://localhost:8080/"
        },
        "id": "LNnr2SlM2OMf",
        "outputId": "8c081b66-447f-4c99-8678-6a84db4f1710"
      },
      "outputs": [
        {
          "output_type": "stream",
          "name": "stdout",
          "text": [
            "root\n",
            " |-- Id: integer (nullable = true)\n",
            " |-- G�nero: string (nullable = true)\n",
            " |-- RendaFamiliar: string (nullable = true)\n",
            " |-- EducacaoPaterna: string (nullable = true)\n",
            " |-- PeriodoDeAula: string (nullable = true)\n",
            " |-- FezAulaParticular: string (nullable = true)\n",
            " |-- EstadoCivilDosPais: string (nullable = true)\n",
            " |-- PraticaEsportes: string (nullable = true)\n",
            " |-- FilhoMaisVelho: string (nullable = true)\n",
            " |-- NumIrmaos: integer (nullable = true)\n",
            " |-- TransporteEscolar: string (nullable = true)\n",
            " |-- HorasDeEstudo: string (nullable = true)\n",
            " |-- notaDeMatematica: integer (nullable = true)\n",
            " |-- notaDePortugues: integer (nullable = true)\n",
            " |-- notaDeCiencias: integer (nullable = true)\n",
            "\n"
          ]
        }
      ],
      "source": [
        "df.printSchema()"
      ]
    },
    {
      "cell_type": "markdown",
      "metadata": {
        "id": "06_3wiKD47tA"
      },
      "source": [
        "⮚ **Realizar uma análise descritiva básica (média, mediana, desvios).**"
      ]
    },
    {
      "cell_type": "code",
      "execution_count": 7,
      "metadata": {
        "id": "isdRqIL-49ck"
      },
      "outputs": [],
      "source": [
        "df_pandas = df.toPandas()"
      ]
    },
    {
      "cell_type": "code",
      "execution_count": 8,
      "metadata": {
        "colab": {
          "base_uri": "https://localhost:8080/"
        },
        "id": "3_GaEpCm66Bx",
        "outputId": "8ad78219-ad42-489e-c65a-ebf5c9c09124"
      },
      "outputs": [
        {
          "output_type": "stream",
          "name": "stdout",
          "text": [
            "Média das notas de Matemática: 66.56\n"
          ]
        }
      ],
      "source": [
        "media_matematica = df_pandas[\"notaDeMatematica\"].mean()\n",
        "print(f\"Média das notas de Matemática: {media_matematica:.2f}\")"
      ]
    },
    {
      "cell_type": "code",
      "execution_count": 11,
      "metadata": {
        "colab": {
          "base_uri": "https://localhost:8080/"
        },
        "id": "fFVgzsn67ghy",
        "outputId": "6543baa1-1d90-4787-dbfb-b15872970532"
      },
      "outputs": [
        {
          "output_type": "stream",
          "name": "stdout",
          "text": [
            "Média das notas de Matemática (PySpark): 66.56\n"
          ]
        }
      ],
      "source": [
        "# Calcular a média usando PySpark\n",
        "media_matematica = df.select(F.avg(\"notaDeMatematica\")).collect()[0][0]\n",
        "print(f\"Média das notas de Matemática (PySpark): {media_matematica:.2f}\")"
      ]
    },
    {
      "cell_type": "code",
      "execution_count": 12,
      "metadata": {
        "colab": {
          "base_uri": "https://localhost:8080/"
        },
        "id": "lhDdJKEt9qWG",
        "outputId": "923baeee-6b88-4425-883d-0ad1b3696620"
      },
      "outputs": [
        {
          "output_type": "stream",
          "name": "stdout",
          "text": [
            "Mediana das notas de Matemática: 67.0\n"
          ]
        }
      ],
      "source": [
        "mediana_matematica = df_pandas[\"notaDeMatematica\"].median()\n",
        "print(f\"Mediana das notas de Matemática: {mediana_matematica}\")"
      ]
    },
    {
      "cell_type": "markdown",
      "metadata": {
        "id": "Zz38fZhp-Awh"
      },
      "source": [
        "## 2) Limpeza e Preparação dos Dados\n",
        "Como analista de dados, preciso limpar e preparar os dados, garantindo que\n",
        "estejam prontos para análises mais complexas.\n",
        "\n",
        "\n",
        "Critérios de Aceitação:\n",
        "\n",
        "\n",
        "⮚ **Identificar e tratar valores nulos.**\n"
      ]
    },
    {
      "cell_type": "code",
      "execution_count": 18,
      "metadata": {
        "colab": {
          "base_uri": "https://localhost:8080/"
        },
        "id": "7Ixof6_-aBcE",
        "outputId": "ae8d15bd-3db5-42f2-88cf-4810713853cc"
      },
      "outputs": [
        {
          "output_type": "stream",
          "name": "stdout",
          "text": [
            "+---+---------+-------------+--------------------+-------------+-----------------+------------------+---------------+--------------+---------+-----------------+-------------+----------------+---------------+--------------+\n",
            "| Id|   G�nero|RendaFamiliar|     EducacaoPaterna|PeriodoDeAula|FezAulaParticular|EstadoCivilDosPais|PraticaEsportes|FilhoMaisVelho|NumIrmaos|TransporteEscolar|HorasDeEstudo|notaDeMatematica|notaDePortugues|notaDeCiencias|\n",
            "+---+---------+-------------+--------------------+-------------+-----------------+------------------+---------------+--------------+---------+-----------------+-------------+----------------+---------------+--------------+\n",
            "|  0| feminino|         NULL|   superior completo|     matutino|              nao|            casado|   regularmente|           sim|        3|           onibus|          < 5|              71|             71|            74|\n",
            "|  1| feminino|      grupo C| superior incompleto|     matutino|             NULL|            casado|  eventualmente|           sim|        0|             NULL|     > 5 < 10|              69|             90|            88|\n",
            "|  2| feminino|      grupo B|            mestrado|     matutino|              nao|          solteiro|  eventualmente|           sim|        4|           onibus|          < 5|              87|             93|            91|\n",
            "|  3|masculino|      grupo A|       ensinao medio|   vespertino|              nao|            casado|          nunca|           nao|        1|             NULL|     > 5 < 10|              45|             56|            42|\n",
            "|  4|masculino|      grupo C| superior incompleto|     matutino|              nao|            casado|  eventualmente|           sim|        0|           onibus|     > 5 < 10|              76|             78|            75|\n",
            "|  5| feminino|      grupo B|       ensinao medio|     matutino|              nao|            casado|   regularmente|           sim|        1|           onibus|     > 5 < 10|              73|             84|            79|\n",
            "|  6| feminino|      grupo B| superior incompleto|     matutino|              sim|             viuvo|          nunca|           nao|        1|            carro|     > 5 < 10|              85|             93|            89|\n",
            "|  7|masculino|      grupo B| superior incompleto|   vespertino|              nao|            casado|  eventualmente|           sim|        1|            carro|         > 10|              41|             43|            39|\n",
            "|  8|masculino|      grupo D|ensinao medio inc...|   vespertino|              sim|          solteiro|  eventualmente|           nao|        3|            carro|         > 10|              65|             64|            68|\n",
            "|  9| feminino|      grupo B|ensinao medio inc...|   vespertino|              nao|            casado|   regularmente|           sim|     NULL|            carro|          < 5|              37|             59|            50|\n",
            "| 10|masculino|      grupo C|       ensinao medio|     matutino|              nao|              NULL|  eventualmente|           sim|        1|            carro|     > 5 < 10|              37|             54|            52|\n",
            "| 11| feminino|      grupo D|       ensinao medio|     matutino|              nao|        divorciado|  eventualmente|           sim|        1|           onibus|     > 5 < 10|              40|             52|            43|\n",
            "| 12|masculino|      grupo B|ensinao medio inc...|     matutino|              nao|            casado|   regularmente|           nao|        1|            carro|     > 5 < 10|              66|             82|            74|\n",
            "| 13| feminino|      grupo A| superior incompleto|     matutino|              sim|          solteiro|  eventualmente|           sim|        1|            carro|         > 10|              80|             73|            71|\n",
            "| 14| feminino|      grupo A|            mestrado|     matutino|              nao|        divorciado|  eventualmente|           sim|        2|            carro|          < 5|              48|             53|            58|\n",
            "| 15|masculino|      grupo C|some ensinao medi...|     matutino|              nao|            casado|  eventualmente|           sim|        0|            carro|         NULL|              69|             75|            78|\n",
            "| 16| feminino|      grupo C|ensinao medio inc...|     matutino|             NULL|            casado|  eventualmente|           sim|        0|           onibus|     > 5 < 10|              88|             89|            86|\n",
            "| 17|masculino|      grupo B|some ensinao medi...|   vespertino|              nao|        divorciado|  eventualmente|           sim|        1|           onibus|     > 5 < 10|              18|             32|            28|\n",
            "| 18| feminino|      grupo C|            mestrado|   vespertino|              sim|          solteiro|  eventualmente|           nao|        1|            carro|     > 5 < 10|              46|             42|            47|\n",
            "| 19|masculino|      grupo C|       ensinao medio|   vespertino|              nao|            casado|          nunca|           sim|        3|            carro|          < 5|              50|             56|            58|\n",
            "+---+---------+-------------+--------------------+-------------+-----------------+------------------+---------------+--------------+---------+-----------------+-------------+----------------+---------------+--------------+\n",
            "only showing top 20 rows\n",
            "\n"
          ]
        }
      ],
      "source": [
        "df.show()"
      ]
    },
    {
      "cell_type": "code",
      "execution_count": 20,
      "metadata": {
        "id": "N5jRQY9MZ7Ut"
      },
      "outputs": [],
      "source": [
        "df2 = df.fillna({\n",
        "    \"RendaFamiliar\": \"Desconhecida\",\n",
        "    \"EducacaoPaterna\": \"Desconhecido\",\n",
        "    \"PeriodoDeAula\": \"Desconhecido\",\n",
        "    \"FezAulaParticular\": \"nao\",\n",
        "    \"EstadoCivilDosPais\": \"Desconhecido\",\n",
        "    \"PraticaEsportes\": 0,\n",
        "    \"FilhoMaisVelho\": \"Desconhecido\",\n",
        "    \"NumIrmaos\": 0,\n",
        "    \"TransporteEscolar\": \"Desconhecido\",\n",
        "    \"HorasDeEstudo\": \"Não Informado\"\n",
        "})\n"
      ]
    },
    {
      "cell_type": "code",
      "execution_count": 19,
      "metadata": {
        "colab": {
          "base_uri": "https://localhost:8080/"
        },
        "id": "1jH7j3rpblNS",
        "outputId": "adc6acb2-c817-4b71-c98b-7cfac181fb47"
      },
      "outputs": [
        {
          "output_type": "stream",
          "name": "stdout",
          "text": [
            "+---+---------+-------------+--------------------+-------------+-----------------+------------------+---------------+--------------+---------+-----------------+-------------+----------------+---------------+--------------+\n",
            "| Id|   G�nero|RendaFamiliar|     EducacaoPaterna|PeriodoDeAula|FezAulaParticular|EstadoCivilDosPais|PraticaEsportes|FilhoMaisVelho|NumIrmaos|TransporteEscolar|HorasDeEstudo|notaDeMatematica|notaDePortugues|notaDeCiencias|\n",
            "+---+---------+-------------+--------------------+-------------+-----------------+------------------+---------------+--------------+---------+-----------------+-------------+----------------+---------------+--------------+\n",
            "|  0| feminino| Desconhecida|   superior completo|     matutino|              nao|            casado|   regularmente|           sim|        3|           onibus|          < 5|              71|             71|            74|\n",
            "|  1| feminino|      grupo C| superior incompleto|     matutino|              nao|            casado|  eventualmente|           sim|        0|     Desconhecido|     > 5 < 10|              69|             90|            88|\n",
            "|  2| feminino|      grupo B|            mestrado|     matutino|              nao|          solteiro|  eventualmente|           sim|        4|           onibus|          < 5|              87|             93|            91|\n",
            "|  3|masculino|      grupo A|       ensinao medio|   vespertino|              nao|            casado|          nunca|           nao|        1|     Desconhecido|     > 5 < 10|              45|             56|            42|\n",
            "|  4|masculino|      grupo C| superior incompleto|     matutino|              nao|            casado|  eventualmente|           sim|        0|           onibus|     > 5 < 10|              76|             78|            75|\n",
            "|  5| feminino|      grupo B|       ensinao medio|     matutino|              nao|            casado|   regularmente|           sim|        1|           onibus|     > 5 < 10|              73|             84|            79|\n",
            "|  6| feminino|      grupo B| superior incompleto|     matutino|              sim|             viuvo|          nunca|           nao|        1|            carro|     > 5 < 10|              85|             93|            89|\n",
            "|  7|masculino|      grupo B| superior incompleto|   vespertino|              nao|            casado|  eventualmente|           sim|        1|            carro|         > 10|              41|             43|            39|\n",
            "|  8|masculino|      grupo D|ensinao medio inc...|   vespertino|              sim|          solteiro|  eventualmente|           nao|        3|            carro|         > 10|              65|             64|            68|\n",
            "|  9| feminino|      grupo B|ensinao medio inc...|   vespertino|              nao|            casado|   regularmente|           sim|        0|            carro|          < 5|              37|             59|            50|\n",
            "| 10|masculino|      grupo C|       ensinao medio|     matutino|              nao|      Desconhecido|  eventualmente|           sim|        1|            carro|     > 5 < 10|              37|             54|            52|\n",
            "| 11| feminino|      grupo D|       ensinao medio|     matutino|              nao|        divorciado|  eventualmente|           sim|        1|           onibus|     > 5 < 10|              40|             52|            43|\n",
            "| 12|masculino|      grupo B|ensinao medio inc...|     matutino|              nao|            casado|   regularmente|           nao|        1|            carro|     > 5 < 10|              66|             82|            74|\n",
            "| 13| feminino|      grupo A| superior incompleto|     matutino|              sim|          solteiro|  eventualmente|           sim|        1|            carro|         > 10|              80|             73|            71|\n",
            "| 14| feminino|      grupo A|            mestrado|     matutino|              nao|        divorciado|  eventualmente|           sim|        2|            carro|          < 5|              48|             53|            58|\n",
            "| 15|masculino|      grupo C|some ensinao medi...|     matutino|              nao|            casado|  eventualmente|           sim|        0|            carro|Não Informado|              69|             75|            78|\n",
            "| 16| feminino|      grupo C|ensinao medio inc...|     matutino|              nao|            casado|  eventualmente|           sim|        0|           onibus|     > 5 < 10|              88|             89|            86|\n",
            "| 17|masculino|      grupo B|some ensinao medi...|   vespertino|              nao|        divorciado|  eventualmente|           sim|        1|           onibus|     > 5 < 10|              18|             32|            28|\n",
            "| 18| feminino|      grupo C|            mestrado|   vespertino|              sim|          solteiro|  eventualmente|           nao|        1|            carro|     > 5 < 10|              46|             42|            47|\n",
            "| 19|masculino|      grupo C|       ensinao medio|   vespertino|              nao|            casado|          nunca|           sim|        3|            carro|          < 5|              50|             56|            58|\n",
            "+---+---------+-------------+--------------------+-------------+-----------------+------------------+---------------+--------------+---------+-----------------+-------------+----------------+---------------+--------------+\n",
            "only showing top 20 rows\n",
            "\n"
          ]
        }
      ],
      "source": [
        "df2.show()"
      ]
    },
    {
      "cell_type": "code",
      "source": [
        "df3 = df2.dropna()"
      ],
      "metadata": {
        "id": "_H4nLlIoTzXM"
      },
      "execution_count": 21,
      "outputs": []
    },
    {
      "cell_type": "markdown",
      "metadata": {
        "id": "mcf6UcNRgDdB"
      },
      "source": [
        "\n",
        "⮚ **Normalizar e formatar as colunas conforme necessário.**"
      ]
    },
    {
      "cell_type": "code",
      "execution_count": 22,
      "metadata": {
        "id": "R-cO1MkgblKP"
      },
      "outputs": [],
      "source": [
        "df3 = df3.withColumn(\"EducacaoPaterna\", lower(trim(col(\"EducacaoPaterna\"))))\n",
        "df3 = df3.withColumn(\"EstadoCivilDosPais\", lower(trim(col(\"EstadoCivilDosPais\"))))\n",
        "df3 = df3.withColumn(\"PeriodoDeAula\", lower(trim(col(\"PeriodoDeAula\"))))\n",
        "df3 = df3.withColumn(\"FezAulaParticular\", upper(trim(col(\"FezAulaParticular\"))))\n",
        "df3 = df3.withColumn(\"FilhoMaisVelho\", upper(trim(col(\"FilhoMaisVelho\"))))\n",
        "df3 = df3.withColumn(\"TransporteEscolar\", lower(trim(col(\"TransporteEscolar\"))))"
      ]
    },
    {
      "cell_type": "code",
      "execution_count": 23,
      "metadata": {
        "colab": {
          "base_uri": "https://localhost:8080/"
        },
        "id": "eGFRqmEWblHi",
        "outputId": "1186b602-8f99-4d23-f3db-3d8ba9856c31"
      },
      "outputs": [
        {
          "output_type": "stream",
          "name": "stdout",
          "text": [
            "+---+---------+-------------+--------------------+-------------+-----------------+------------------+---------------+--------------+---------+-----------------+-------------+----------------+---------------+--------------+\n",
            "| Id|   G�nero|RendaFamiliar|     EducacaoPaterna|PeriodoDeAula|FezAulaParticular|EstadoCivilDosPais|PraticaEsportes|FilhoMaisVelho|NumIrmaos|TransporteEscolar|HorasDeEstudo|notaDeMatematica|notaDePortugues|notaDeCiencias|\n",
            "+---+---------+-------------+--------------------+-------------+-----------------+------------------+---------------+--------------+---------+-----------------+-------------+----------------+---------------+--------------+\n",
            "|  0| feminino| Desconhecida|   superior completo|     matutino|              NAO|            casado|   regularmente|           SIM|        3|           onibus|          < 5|              71|             71|            74|\n",
            "|  1| feminino|      grupo C| superior incompleto|     matutino|              NAO|            casado|  eventualmente|           SIM|        0|     desconhecido|     > 5 < 10|              69|             90|            88|\n",
            "|  2| feminino|      grupo B|            mestrado|     matutino|              NAO|          solteiro|  eventualmente|           SIM|        4|           onibus|          < 5|              87|             93|            91|\n",
            "|  3|masculino|      grupo A|       ensinao medio|   vespertino|              NAO|            casado|          nunca|           NAO|        1|     desconhecido|     > 5 < 10|              45|             56|            42|\n",
            "|  4|masculino|      grupo C| superior incompleto|     matutino|              NAO|            casado|  eventualmente|           SIM|        0|           onibus|     > 5 < 10|              76|             78|            75|\n",
            "|  5| feminino|      grupo B|       ensinao medio|     matutino|              NAO|            casado|   regularmente|           SIM|        1|           onibus|     > 5 < 10|              73|             84|            79|\n",
            "|  6| feminino|      grupo B| superior incompleto|     matutino|              SIM|             viuvo|          nunca|           NAO|        1|            carro|     > 5 < 10|              85|             93|            89|\n",
            "|  7|masculino|      grupo B| superior incompleto|   vespertino|              NAO|            casado|  eventualmente|           SIM|        1|            carro|         > 10|              41|             43|            39|\n",
            "|  8|masculino|      grupo D|ensinao medio inc...|   vespertino|              SIM|          solteiro|  eventualmente|           NAO|        3|            carro|         > 10|              65|             64|            68|\n",
            "|  9| feminino|      grupo B|ensinao medio inc...|   vespertino|              NAO|            casado|   regularmente|           SIM|        0|            carro|          < 5|              37|             59|            50|\n",
            "| 10|masculino|      grupo C|       ensinao medio|     matutino|              NAO|      desconhecido|  eventualmente|           SIM|        1|            carro|     > 5 < 10|              37|             54|            52|\n",
            "| 11| feminino|      grupo D|       ensinao medio|     matutino|              NAO|        divorciado|  eventualmente|           SIM|        1|           onibus|     > 5 < 10|              40|             52|            43|\n",
            "| 12|masculino|      grupo B|ensinao medio inc...|     matutino|              NAO|            casado|   regularmente|           NAO|        1|            carro|     > 5 < 10|              66|             82|            74|\n",
            "| 13| feminino|      grupo A| superior incompleto|     matutino|              SIM|          solteiro|  eventualmente|           SIM|        1|            carro|         > 10|              80|             73|            71|\n",
            "| 14| feminino|      grupo A|            mestrado|     matutino|              NAO|        divorciado|  eventualmente|           SIM|        2|            carro|          < 5|              48|             53|            58|\n",
            "| 15|masculino|      grupo C|some ensinao medi...|     matutino|              NAO|            casado|  eventualmente|           SIM|        0|            carro|Não Informado|              69|             75|            78|\n",
            "| 16| feminino|      grupo C|ensinao medio inc...|     matutino|              NAO|            casado|  eventualmente|           SIM|        0|           onibus|     > 5 < 10|              88|             89|            86|\n",
            "| 17|masculino|      grupo B|some ensinao medi...|   vespertino|              NAO|        divorciado|  eventualmente|           SIM|        1|           onibus|     > 5 < 10|              18|             32|            28|\n",
            "| 18| feminino|      grupo C|            mestrado|   vespertino|              SIM|          solteiro|  eventualmente|           NAO|        1|            carro|     > 5 < 10|              46|             42|            47|\n",
            "| 19|masculino|      grupo C|       ensinao medio|   vespertino|              NAO|            casado|          nunca|           SIM|        3|            carro|          < 5|              50|             56|            58|\n",
            "+---+---------+-------------+--------------------+-------------+-----------------+------------------+---------------+--------------+---------+-----------------+-------------+----------------+---------------+--------------+\n",
            "only showing top 20 rows\n",
            "\n"
          ]
        }
      ],
      "source": [
        "df3.show()"
      ]
    },
    {
      "cell_type": "markdown",
      "metadata": {
        "id": "mYn2KpabocIb"
      },
      "source": [
        "3) Análise Avançada: Relação entre Renda Familiar e Notas\n",
        "Como analista de dados, quero explorar como a renda familiar influencia o\n",
        "desempenho dos alunos.\n",
        "\n",
        "Critérios de Aceitação:\n",
        "\n",
        "⮚ Agrupar os dados por renda familiar e calcular a média das notas.\n",
        "⮚ Analisar se existe uma correlação visível, por exemplo: alunos com mais\n",
        "horas de estudo, que fizeram aula particular, que se exercitam, tendem a\n",
        "ter uma média de notas maiores? Faça uma análise que traga esses\n",
        "resultados."
      ]
    },
    {
      "cell_type": "code",
      "execution_count": 24,
      "metadata": {
        "id": "9HQhOrqQo7q5"
      },
      "outputs": [],
      "source": [
        "df_grouped = df2.groupBy(\"RendaFamiliar\").agg(\n",
        "    avg(\"notaDeMatematica\").alias(\"media_nota_matematica\"),\n",
        "    avg(\"notaDePortugues\").alias(\"media_nota_portugues\"),\n",
        "    avg(\"notaDeCiencias\").alias(\"media_nota_ciencias\")\n",
        ")\n"
      ]
    },
    {
      "cell_type": "code",
      "execution_count": 25,
      "metadata": {
        "colab": {
          "base_uri": "https://localhost:8080/"
        },
        "id": "LxrbXKWJqNys",
        "outputId": "7e87ce75-b7c8-4503-d014-fa614b986d37"
      },
      "outputs": [
        {
          "output_type": "stream",
          "name": "stdout",
          "text": [
            "+-------------+---------------------+--------------------+-------------------+\n",
            "|RendaFamiliar|media_nota_matematica|media_nota_portugues|media_nota_ciencias|\n",
            "+-------------+---------------------+--------------------+-------------------+\n",
            "| Desconhecida|    66.18586956521739|   68.91576086956522|  67.90054347826087|\n",
            "|      grupo A|    62.99188823794502|   66.78774222622803|  65.25191527715187|\n",
            "|      grupo D|    67.66640010662401|   70.38224710115954|  70.89084366253499|\n",
            "|      grupo C|    64.69344333478072|   68.43823273990448|  66.99924012158054|\n",
            "|      grupo E|    75.29893590695373|   74.25142291512002|  72.67706013363029|\n",
            "|      grupo B|   63.490216271884655|   67.32046000686577|  65.89512530037761|\n",
            "+-------------+---------------------+--------------------+-------------------+\n",
            "\n"
          ]
        }
      ],
      "source": [
        "df_grouped.show()"
      ]
    },
    {
      "cell_type": "code",
      "execution_count": 26,
      "metadata": {
        "colab": {
          "base_uri": "https://localhost:8080/"
        },
        "id": "5g-qttsruQ0h",
        "outputId": "30a16ef6-196a-4d94-e81e-e10fc0af4b44"
      },
      "outputs": [
        {
          "output_type": "stream",
          "name": "stdout",
          "text": [
            "root\n",
            " |-- Id: integer (nullable = true)\n",
            " |-- G�nero: string (nullable = true)\n",
            " |-- RendaFamiliar: string (nullable = false)\n",
            " |-- EducacaoPaterna: string (nullable = false)\n",
            " |-- PeriodoDeAula: string (nullable = false)\n",
            " |-- FezAulaParticular: integer (nullable = false)\n",
            " |-- EstadoCivilDosPais: string (nullable = false)\n",
            " |-- PraticaEsportes: integer (nullable = false)\n",
            " |-- FilhoMaisVelho: string (nullable = false)\n",
            " |-- NumIrmaos: integer (nullable = false)\n",
            " |-- TransporteEscolar: integer (nullable = false)\n",
            " |-- HorasDeEstudo: double (nullable = true)\n",
            " |-- notaDeMatematica: integer (nullable = true)\n",
            " |-- notaDePortugues: integer (nullable = true)\n",
            " |-- notaDeCiencias: integer (nullable = true)\n",
            "\n"
          ]
        }
      ],
      "source": [
        "from pyspark.sql.functions import when\n",
        "\n",
        "# Converter FezAulaParticular para numérico: 1 para 'sim', 0 para 'não'\n",
        "df3 = df3.withColumn(\"FezAulaParticular\", when(col(\"FezAulaParticular\") == \"sim\", 1).otherwise(0))\n",
        "\n",
        "# Converter TransporteEscolar para numérico: 1 para 'sim', 0 para 'não'\n",
        "df3 = df3.withColumn(\"TransporteEscolar\", when(col(\"TransporteEscolar\") == \"sim\", 1).otherwise(0))\n",
        "\n",
        "# Converter PraticaEsportes para numérico: 1 para 'sim', 0 para 'não'\n",
        "df3 = df3.withColumn(\"PraticaEsportes\", when(col(\"PraticaEsportes\") == \"sim\", 1).otherwise(0))\n",
        "\n",
        "# Converter HorasDeEstudo para numérico (caso necessário)\n",
        "df3 = df3.withColumn(\"HorasDeEstudo\", col(\"HorasDeEstudo\").cast(\"double\"))\n",
        "\n",
        "# Verificar se todas as colunas necessárias estão no formato numérico\n",
        "df3.printSchema()"
      ]
    },
    {
      "cell_type": "code",
      "execution_count": 27,
      "metadata": {
        "colab": {
          "base_uri": "https://localhost:8080/"
        },
        "id": "gVGsVDzHqm-g",
        "outputId": "da392674-5435-4909-d003-fa1ffa9d6266"
      },
      "outputs": [
        {
          "output_type": "stream",
          "name": "stdout",
          "text": [
            "+-------------+-----------------+-----------------+-----------------+\n",
            "|RendaFamiliar|  MediaMatematica|   MediaPortugues|    MediaCiencias|\n",
            "+-------------+-----------------+-----------------+-----------------+\n",
            "| Desconhecida|66.18586956521739|68.91576086956522|67.90054347826087|\n",
            "|      grupo A|62.99188823794502|66.78774222622803|65.25191527715187|\n",
            "|      grupo D|67.66640010662401|70.38224710115954|70.89084366253499|\n",
            "|      grupo C|64.69344333478072|68.43823273990448|66.99924012158054|\n",
            "|      grupo E|75.29893590695373|74.25142291512002|72.67706013363029|\n",
            "|      grupo B|63.49012875536481|67.32171673819742|65.89648068669528|\n",
            "+-------------+-----------------+-----------------+-----------------+\n",
            "\n",
            "Correlação entre Horas de Estudo e Notas:\n",
            "Matemática: nan\n",
            "Português: nan\n",
            "Ciências: nan\n",
            "\n",
            "Correlação entre Fez Aula Particular e Notas:\n",
            "Matemática: nan\n",
            "Português: nan\n",
            "Ciências: nan\n",
            "\n",
            "Correlação entre Pratica Esportes e Notas:\n",
            "Matemática: nan\n",
            "Português: nan\n",
            "Ciências: nan\n"
          ]
        }
      ],
      "source": [
        "\n",
        "\n",
        "spark = SparkSession.builder \\\n",
        "    .appName(\"Analise de Renda e Notas\") \\\n",
        "    .getOrCreate()\n",
        "\n",
        "\n",
        "media_notas_por_renda = df3.groupBy(\"RendaFamiliar\").agg(\n",
        "    avg(\"NotaDeMatematica\").alias(\"MediaMatematica\"),\n",
        "    avg(\"NotaDePortugues\").alias(\"MediaPortugues\"),\n",
        "    avg(\"NotaDeCiencias\").alias(\"MediaCiencias\")\n",
        ")\n",
        "\n",
        "\n",
        "media_notas_por_renda.show()\n",
        "\n",
        "corr_estudo_matematica = df3.stat.corr(\"HorasDeEstudo\", \"NotaDeMatematica\")\n",
        "corr_estudo_portugues = df3.stat.corr(\"HorasDeEstudo\", \"NotaDePortugues\")\n",
        "corr_estudo_ciencias = df3.stat.corr(\"HorasDeEstudo\", \"NotaDeCiencias\")\n",
        "\n",
        "df3 = df3.withColumn(\"FezAulaParticular\", col(\"FezAulaParticular\").cast(\"double\"))  # Converter para numérico\n",
        "corr_aula_particular_matematica = df3.stat.corr(\"FezAulaParticular\", \"NotaDeMatematica\")\n",
        "corr_aula_particular_portugues = df3.stat.corr(\"FezAulaParticular\", \"NotaDePortugues\")\n",
        "corr_aula_particular_ciencias = df3.stat.corr(\"FezAulaParticular\", \"NotaDeCiencias\")\n",
        "\n",
        "df3 = df3.withColumn(\"PraticaEsportes\", col(\"PraticaEsportes\").cast(\"double\"))  # Converter para numérico\n",
        "corr_esportes_matematica = df3.stat.corr(\"PraticaEsportes\", \"NotaDeMatematica\")\n",
        "corr_esportes_portugues = df3.stat.corr(\"PraticaEsportes\", \"NotaDePortugues\")\n",
        "corr_esportes_ciencias = df3.stat.corr(\"PraticaEsportes\", \"NotaDeCiencias\")\n",
        "\n",
        "print(f\"Correlação entre Horas de Estudo e Notas:\")\n",
        "print(f\"Matemática: {corr_estudo_matematica}\")\n",
        "print(f\"Português: {corr_estudo_portugues}\")\n",
        "print(f\"Ciências: {corr_estudo_ciencias}\")\n",
        "\n",
        "print(f\"\\nCorrelação entre Fez Aula Particular e Notas:\")\n",
        "print(f\"Matemática: {corr_aula_particular_matematica}\")\n",
        "print(f\"Português: {corr_aula_particular_portugues}\")\n",
        "print(f\"Ciências: {corr_aula_particular_ciencias}\")\n",
        "\n",
        "print(f\"\\nCorrelação entre Pratica Esportes e Notas:\")\n",
        "print(f\"Matemática: {corr_esportes_matematica}\")\n",
        "print(f\"Português: {corr_esportes_portugues}\")\n",
        "print(f\"Ciências: {corr_esportes_ciencias}\")\n"
      ]
    }
  ],
  "metadata": {
    "colab": {
      "provenance": [],
      "toc_visible": true,
      "include_colab_link": true
    },
    "kernelspec": {
      "display_name": "Python 3",
      "name": "python3"
    },
    "language_info": {
      "name": "python"
    }
  },
  "nbformat": 4,
  "nbformat_minor": 0
}